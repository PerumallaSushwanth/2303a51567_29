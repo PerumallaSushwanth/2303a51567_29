{
  "nbformat": 4,
  "nbformat_minor": 0,
  "metadata": {
    "colab": {
      "provenance": [],
      "authorship_tag": "ABX9TyMucsuCkyYZyIANnc513qvk",
      "include_colab_link": true
    },
    "kernelspec": {
      "name": "python3",
      "display_name": "Python 3"
    },
    "language_info": {
      "name": "python"
    }
  },
  "cells": [
    {
      "cell_type": "markdown",
      "metadata": {
        "id": "view-in-github",
        "colab_type": "text"
      },
      "source": [
        "<a href=\"https://colab.research.google.com/github/PerumallaSushwanth/2303a51567_29/blob/main/lab1/1567.ipynb\" target=\"_parent\"><img src=\"https://colab.research.google.com/assets/colab-badge.svg\" alt=\"Open In Colab\"/></a>"
      ]
    },
    {
      "cell_type": "code",
      "execution_count": 1,
      "metadata": {
        "colab": {
          "base_uri": "https://localhost:8080/"
        },
        "id": "qOhfUQy4zNtg",
        "outputId": "d513c42e-0850-49f4-d7b1-d9fd68662157"
      },
      "outputs": [
        {
          "output_type": "stream",
          "name": "stdout",
          "text": [
            "enter a number:6\n",
            "the factorial of 6 is 720\n"
          ]
        }
      ],
      "source": [
        "def factorial(n):\n",
        "  if n==0 or n==1:\n",
        "    return 1\n",
        "  else:\n",
        "    return n*factorial(n-1)\n",
        "number = int(input(\"enter a number:\"))\n",
        "if number<0:\n",
        "  print(\"Factorial is not defined for negative numbers\")\n",
        "else:\n",
        "  result = factorial(number)\n",
        "  print(f\"the factorial of {number} is {result}\")"
      ]
    },
    {
      "cell_type": "code",
      "source": [
        "def factorial(n, depth=0):\n",
        "    indent = \"  \" * depth  # Indentation for visualizing depth\n",
        "    print(f\"{indent}Calling factorial({n})\")\n",
        "\n",
        "    if n == 0 or n == 1:\n",
        "        print(f\"{indent}Base case reached: factorial({n}) = 1\")\n",
        "        return 1\n",
        "    else:\n",
        "        print(f\"{indent}Recursive case: {n} * factorial({n-1})\")\n",
        "        result = n * factorial(n - 1, depth + 1)\n",
        "        print(f\"{indent}Returning: {n} * factorial({n-1}) = {result}\")\n",
        "        return result\n",
        "\n",
        "# Take input from user\n",
        "number = int(input(\"Enter a number to calculate the factorial (≤ 10): \"))\n",
        "\n",
        "# Validate input\n",
        "if number < 0:\n",
        "    print(\"Factorial not defined for negative numbers.\")\n",
        "elif number > 10:\n",
        "    print(\"Please enter a number ≤ 10 to visualize recursion.\")\n",
        "else:\n",
        "    final_result = factorial(number)\n",
        "    print(f\"\\nThe factorial of {number} is {final_result}\")\n",
        ""
      ],
      "metadata": {
        "colab": {
          "base_uri": "https://localhost:8080/"
        },
        "id": "gwzcp7Q8zUWL",
        "outputId": "f98b9f0b-27f1-4828-ad0a-69ed330a9330"
      },
      "execution_count": 2,
      "outputs": [
        {
          "output_type": "stream",
          "name": "stdout",
          "text": [
            "Enter a number to calculate the factorial (≤ 10): 3\n",
            "Calling factorial(3)\n",
            "Recursive case: 3 * factorial(2)\n",
            "  Calling factorial(2)\n",
            "  Recursive case: 2 * factorial(1)\n",
            "    Calling factorial(1)\n",
            "    Base case reached: factorial(1) = 1\n",
            "  Returning: 2 * factorial(1) = 2\n",
            "Returning: 3 * factorial(2) = 6\n",
            "\n",
            "The factorial of 3 is 6\n"
          ]
        }
      ]
    },
    {
      "cell_type": "code",
      "source": [
        "import time\n",
        "import sys\n",
        "\n",
        "# Recursive factorial function\n",
        "def factorial_recursive(n):\n",
        "    if n == 0 or n == 1:\n",
        "        return 1\n",
        "    else:\n",
        "        return n * factorial_recursive(n - 1)\n",
        "\n",
        "# Iterative factorial function\n",
        "def factorial_iterative(n):\n",
        "    result = 1\n",
        "    for i in range(2, n + 1):\n",
        "        result *= i\n",
        "    return result\n",
        "\n",
        "# Input from user\n",
        "number = int(input(\"Enter a number to calculate factorial (≤ 20): \"))\n",
        "\n",
        "# Edge case check\n",
        "if number < 0:\n",
        "    print(\"Factorial is not defined for negative numbers.\")\n",
        "elif number > 20:\n",
        "    print(\"Please enter a number ≤ 20 to avoid long recursion time.\")\n",
        "else:\n",
        "    # Recursive execution time and memory\n",
        "    start_rec = time.time()\n",
        "    rec_result = factorial_recursive(number)\n",
        "    end_rec = time.time()\n",
        "    rec_time = end_rec - start_rec\n",
        "    rec_memory = sys.getsizeof(rec_result)\n",
        "\n",
        "    # Iterative execution time and memory\n",
        "    start_itr = time.time()\n",
        "    itr_result = factorial_iterative(number)\n",
        "    end_itr = time.time()\n",
        "    itr_time = end_itr - start_itr\n",
        "    itr_memory = sys.getsizeof(itr_result)\n",
        "\n",
        "    # Results\n",
        "    print(\"\\n--- Factorial Results ---\")\n",
        "    print(f\"Recursive Result: {rec_result}\")\n",
        "    print(f\"Iterative Result: {itr_result}\")\n",
        "\n",
        "    # Comparison Table\n",
        "    print(\"\\n--- Comparison Table ---\")\n",
        "    print(f\"{'Approach':<12}{'Time (sec)':<15}{'Memory (bytes)'}\")\n",
        "    print(f\"{'-'*40}\")\n",
        "    print(f\"{'Recursive':<12}{rec_time:<15.8f}{rec_memory}\")\n",
        "    print(f\"{'Iterative':<12}{itr_time:<15.8f}{itr_memory}\")\n",
        "\n",
        "    # Comments: Pros and Cons\n",
        "    print(\"\\n--- Pros and Cons ---\")\n",
        "    print(\"Recursive:\")\n",
        "    print(\"- Simpler to write and understand for mathematical problems.\")\n",
        "    print(\"- Consumes more memory (call stack). Risk of stack overflow for large n.\")\n",
        "\n",
        "    print(\"\\nIterative:\")\n",
        "    print(\"- More efficient in memory usage.\")\n",
        "    print(\"- Preferred for large inputs due to no recursion depth limit.\")"
      ],
      "metadata": {
        "colab": {
          "base_uri": "https://localhost:8080/"
        },
        "id": "h41sXur-zYS6",
        "outputId": "ec0323b7-16ea-4458-b554-4a6b40c3973c"
      },
      "execution_count": 3,
      "outputs": [
        {
          "output_type": "stream",
          "name": "stdout",
          "text": [
            "Enter a number to calculate factorial (≤ 20): 16\n",
            "\n",
            "--- Factorial Results ---\n",
            "Recursive Result: 20922789888000\n",
            "Iterative Result: 20922789888000\n",
            "\n",
            "--- Comparison Table ---\n",
            "Approach    Time (sec)     Memory (bytes)\n",
            "----------------------------------------\n",
            "Recursive   0.00000668     32\n",
            "Iterative   0.00000596     32\n",
            "\n",
            "--- Pros and Cons ---\n",
            "Recursive:\n",
            "- Simpler to write and understand for mathematical problems.\n",
            "- Consumes more memory (call stack). Risk of stack overflow for large n.\n",
            "\n",
            "Iterative:\n",
            "- More efficient in memory usage.\n",
            "- Preferred for large inputs due to no recursion depth limit.\n"
          ]
        }
      ]
    }
  ]
}