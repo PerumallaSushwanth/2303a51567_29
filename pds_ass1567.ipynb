{
  "nbformat": 4,
  "nbformat_minor": 0,
  "metadata": {
    "colab": {
      "provenance": [],
      "authorship_tag": "ABX9TyMbLntUgR8Sllgpn8klTuvV",
      "include_colab_link": true
    },
    "kernelspec": {
      "name": "python3",
      "display_name": "Python 3"
    },
    "language_info": {
      "name": "python"
    }
  },
  "cells": [
    {
      "cell_type": "markdown",
      "metadata": {
        "id": "view-in-github",
        "colab_type": "text"
      },
      "source": [
        "<a href=\"https://colab.research.google.com/github/PerumallaSushwanth/2303a51567_29/blob/main/pds_ass1567.ipynb\" target=\"_parent\"><img src=\"https://colab.research.google.com/assets/colab-badge.svg\" alt=\"Open In Colab\"/></a>"
      ]
    },
    {
      "cell_type": "code",
      "execution_count": 2,
      "metadata": {
        "colab": {
          "base_uri": "https://localhost:8080/"
        },
        "id": "u-Vq7J4-4Rnv",
        "outputId": "027a9edf-2a61-49f0-ed62-81e27d5dfe40"
      },
      "outputs": [
        {
          "output_type": "stream",
          "name": "stdout",
          "text": [
            "Filtered Feedback for 'Python for Data Science' with Ratings:\n",
            "\n",
            "User: 101 | Feedback: Great course, very practical!\n",
            "User: 104 | Feedback: Well explained and detailed\n",
            "------------------------------\n",
            "Original Data:\n",
            "     Location  PM2.5   PM10    NO2   SO2        Date\n",
            "0  Hyderabad  120.0  250.0   70.0  15.0  2025-08-20\n",
            "1      Delhi  180.0    NaN   90.0  20.0  2025-08-21\n",
            "2     Mumbai    NaN  180.0   60.0   NaN  2025-08-22\n",
            "3    Chennai   95.0  140.0    NaN  10.0  2025-08-23\n",
            "4  Bengaluru  200.0  220.0  100.0  25.0  2025-08-24 \n",
            "\n",
            "After Forward Fill:\n",
            "     Location  PM2.5   PM10    NO2   SO2        Date\n",
            "0  Hyderabad  120.0  250.0   70.0  15.0  2025-08-20\n",
            "1      Delhi  180.0  250.0   90.0  20.0  2025-08-21\n",
            "2     Mumbai  180.0  180.0   60.0  20.0  2025-08-22\n",
            "3    Chennai   95.0  140.0   60.0  10.0  2025-08-23\n",
            "4  Bengaluru  200.0  220.0  100.0  25.0  2025-08-24 \n",
            "\n",
            "Polluted Days (PM2.5 > 150 and NO2 > 80):\n",
            "     Location  PM2.5   PM10    NO2   SO2        Date\n",
            "1      Delhi  180.0  250.0   90.0  20.0  2025-08-21\n",
            "4  Bengaluru  200.0  220.0  100.0  25.0  2025-08-24\n"
          ]
        }
      ],
      "source": [
        "import pandas as pd\n",
        "\n",
        "# First DataFrame and operations\n",
        "data = {\n",
        "    \"User_ID\": [101, 102, 103, 104, 105],\n",
        "    \"Course_Name\": [\n",
        "        \"Python for Data Science\",\n",
        "        \"Python for Data Science\",\n",
        "        \"Data Structures\",\n",
        "        \"Python for Data Science\",\n",
        "        \"Machine Learning\"\n",
        "    ],\n",
        "    \"Rating\": [5, None, 3, 4, 5],\n",
        "    \"Feedback\": [\n",
        "        \"Great course, very practical!\",\n",
        "        \"Loved it but missed some parts\",\n",
        "        \"Good intro to DS\",\n",
        "        \"Well explained and detailed\",\n",
        "        \"Excellent ML content\"\n",
        "    ],\n",
        "    \"Date\": [\n",
        "        \"2025-08-01\",\n",
        "        \"2025-08-05\",\n",
        "        \"2025-08-07\",\n",
        "        \"2025-08-10\",\n",
        "        \"2025-08-15\"\n",
        "    ]\n",
        "}\n",
        "df = pd.DataFrame(data)\n",
        "df = df.dropna(subset=[\"Rating\"])\n",
        "\n",
        "# Corrected filtering condition\n",
        "filtered_feedback = df[(df[\"Course_Name\"] == \"Python for Data Science\") & (df[\"Rating\"].notna())]\n",
        "\n",
        "print(\"Filtered Feedback for 'Python for Data Science' with Ratings:\\n\")\n",
        "for _, row in filtered_feedback.iterrows():\n",
        "    print(f\"User: {row['User_ID']} | Feedback: {row['Feedback']}\")\n",
        "\n",
        "print(\"-\" * 30) # Separator for clarity\n",
        "\n",
        "# Second DataFrame and operations\n",
        "data = {\n",
        "    \"Location\": [\"Hyderabad\", \"Delhi\", \"Mumbai\", \"Chennai\", \"Bengaluru\"],\n",
        "    \"PM2.5\": [120, 180, None, 95, 200],\n",
        "    \"PM10\": [250, None, 180, 140, 220],\n",
        "    \"NO2\": [70, 90, 60, None, 100],\n",
        "    \"SO2\": [15, 20, None, 10, 25],\n",
        "    \"Date\": [\"2025-08-20\", \"2025-08-21\", \"2025-08-22\", \"2025-08-23\", \"2025-08-24\"]\n",
        "}\n",
        "df = pd.DataFrame(data)\n",
        "print(\"Original Data:\\n\", df, \"\\n\")\n",
        "\n",
        "df = df.ffill()\n",
        "print(\"After Forward Fill:\\n\", df, \"\\n\")\n",
        "\n",
        "polluted_days = df[(df[\"PM2.5\"] > 150) & (df[\"NO2\"] > 80)]\n",
        "print(\"Polluted Days (PM2.5 > 150 and NO2 > 80):\\n\", polluted_days)"
      ]
    }
  ]
}